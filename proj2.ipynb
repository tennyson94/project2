{
 "cells": [
  {
   "cell_type": "code",
   "execution_count": 1,
   "metadata": {},
   "outputs": [
    {
     "ename": "ModuleNotFoundError",
     "evalue": "No module named 'cv2'",
     "output_type": "error",
     "traceback": [
      "\u001b[0;31m---------------------------------------------------------------------------\u001b[0m",
      "\u001b[0;31mModuleNotFoundError\u001b[0m                       Traceback (most recent call last)",
      "\u001b[0;32m<ipython-input-1-c663e89873da>\u001b[0m in \u001b[0;36m<module>\u001b[0;34m\u001b[0m\n\u001b[1;32m      3\u001b[0m \u001b[0;32mimport\u001b[0m \u001b[0mmatplotlib\u001b[0m\u001b[0;34m.\u001b[0m\u001b[0mpyplot\u001b[0m \u001b[0;32mas\u001b[0m \u001b[0mplt\u001b[0m\u001b[0;34m\u001b[0m\u001b[0;34m\u001b[0m\u001b[0m\n\u001b[1;32m      4\u001b[0m \u001b[0;32mfrom\u001b[0m \u001b[0mscipy\u001b[0m\u001b[0;34m.\u001b[0m\u001b[0mndimage\u001b[0m \u001b[0;32mimport\u001b[0m \u001b[0mgaussian_filter\u001b[0m\u001b[0;34m\u001b[0m\u001b[0;34m\u001b[0m\u001b[0m\n\u001b[0;32m----> 5\u001b[0;31m \u001b[0;32mimport\u001b[0m \u001b[0mcv2\u001b[0m\u001b[0;34m\u001b[0m\u001b[0;34m\u001b[0m\u001b[0m\n\u001b[0m",
      "\u001b[0;31mModuleNotFoundError\u001b[0m: No module named 'cv2'"
     ]
    }
   ],
   "source": [
    "%matplotlib inline\n",
    "import numpy as np\n",
    "import matplotlib.pyplot as plt\n",
    "from scipy.ndimage import gaussian_filter\n",
    "import cv2"
   ]
  },
  {
   "cell_type": "code",
   "execution_count": null,
   "metadata": {},
   "outputs": [],
   "source": [
    "img = plt.imread('./101_ObjectCategories/airplanes/image_0001.jpg')\n",
    "\n",
    "print(\"ORIGINAL IMAGE\")\n",
    "plt.imshow(img)\n",
    "plt.show()\n",
    "\n",
    "#print(\"Filtered with Sigma = 1\")\n",
    "#y = gaussian_filter(img, sigma = 1)\n",
    "#plt.imshow(y)\n",
    "#plt.show()\n",
    "\n",
    "#y = gaussian_filter(img, sigma = 2)\n",
    "#plt.imshow(y)\n",
    "#plt.show()\n",
    "\n",
    "#def diffOfGaussian(img, k, sigma):\n",
    "#    return gaussian_filter(img, k * sigma) - gaussian_filter(img, sigma)\n",
    "    \n",
    "def gen_octave(img, s, sigma): \n",
    "    octave = [] \n",
    "    k = int(2**(1/s))\n",
    "    for i in range(s+3):  \n",
    "        octave.append(gaussian_filter(img, 1, sigma))  \n",
    "        sigma *= k\n",
    "    return octave\n",
    "\n",
    "def gen_gauss_pymid(img, s, sigma, num_octaves): \n",
    "    pyr = []   \n",
    "    for i in range(num_octaves): \n",
    "        octave = gen_octave(img, s, sigma) \n",
    "        pyr.append(octave) \n",
    "        img = octave[-3][::2, ::2]\n",
    "        img = cv2.resize((int(img.shape[0] / 2), int(img.shape[1] / 2)))\n",
    "    return pyr\n",
    "\n",
    "x = gen_gauss_pymid(img, s = 2, sigma = 1, num_octaves = 5)\n",
    "\n",
    "for eachOctave in x:\n",
    "    for pic in eachOctave:\n",
    "        plt.imshow(pic)\n",
    "        plt.show()\n"
   ]
  }
 ],
 "metadata": {
  "kernelspec": {
   "display_name": "Python 3",
   "language": "python",
   "name": "python3"
  },
  "language_info": {
   "codemirror_mode": {
    "name": "ipython",
    "version": 3
   },
   "file_extension": ".py",
   "mimetype": "text/x-python",
   "name": "python",
   "nbconvert_exporter": "python",
   "pygments_lexer": "ipython3",
   "version": "3.6.9"
  }
 },
 "nbformat": 4,
 "nbformat_minor": 2
}
